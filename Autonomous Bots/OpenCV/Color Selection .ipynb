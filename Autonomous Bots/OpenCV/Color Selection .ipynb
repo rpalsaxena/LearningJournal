{
 "cells": [
  {
   "cell_type": "code",
   "execution_count": 4,
   "metadata": {},
   "outputs": [],
   "source": [
    "import matplotlib.pyplot as plt\n",
    "import matplotlib.image as mpimg\n",
    "import numpy as np"
   ]
  },
  {
   "cell_type": "code",
   "execution_count": 49,
   "metadata": {},
   "outputs": [],
   "source": [
    "### Read in the images\n",
    "image = mpimg.imread('test.jpg')\n",
    "\n",
    "#Grab the x and y size and make a copy of the image\n",
    "ysize = image.shape[0]\n",
    "xsize = image.shape[1]\n",
    "color_select = np.copy(image)"
   ]
  },
  {
   "cell_type": "code",
   "execution_count": 50,
   "metadata": {},
   "outputs": [],
   "source": [
    "# Define color selection criteria\n",
    "### Set these values to adjust the boundaries\n",
    "red_threshold   = 200\n",
    "green_threshold = 200\n",
    "blue_threshold  = 200\n",
    "\n",
    "rgb_threshold = [red_threshold, green_threshold, blue_threshold]"
   ]
  },
  {
   "cell_type": "code",
   "execution_count": 51,
   "metadata": {},
   "outputs": [
    {
     "name": "stdout",
     "output_type": "stream",
     "text": [
      "[[ True  True  True ...  True  True  True]\n",
      " [ True  True  True ...  True  True  True]\n",
      " [ True  True  True ...  True  True  True]\n",
      " ...\n",
      " [ True  True  True ...  True  True  True]\n",
      " [ True  True  True ...  True  True  True]\n",
      " [ True  True  True ...  True  True  True]]\n"
     ]
    }
   ],
   "source": [
    "# Boolean or with \"|\" char to identify pixels below the thresholds\n",
    "thresholds = (image[:,:, 0] < rgb_threshold[0]) \\\n",
    "            | (image[:, :, 1] < rgb_threshold[1])  \\\n",
    "            | (image[:, :, 2] < rgb_threshold[2])\n",
    "\n",
    "print(thresholds)\n",
    "color_select[thresholds] = [0, 0, 0]"
   ]
  },
  {
   "cell_type": "code",
   "execution_count": 52,
   "metadata": {},
   "outputs": [
    {
     "data": {
      "text/plain": [
       "<matplotlib.image.AxesImage at 0x1ab6fedad48>"
      ]
     },
     "execution_count": 52,
     "metadata": {},
     "output_type": "execute_result"
    },
    {
     "data": {
      "image/png": "[encoded data removed]",
      "text/plain": [
       "<Figure size 432x288 with 1 Axes>"
      ]
     },
     "metadata": {
      "needs_background": "light"
     },
     "output_type": "display_data"
    }
   ],
   "source": [
    "plt.imshow(color_select)"
   ]
  }
 ],
 "metadata": {
  "kernelspec": {
   "display_name": "Python 3",
   "language": "python",
   "name": "python3"
  },
  "language_info": {
   "codemirror_mode": {
    "name": "ipython",
    "version": 3
   },
   "file_extension": ".py",
   "mimetype": "text/x-python",
   "name": "python",
   "nbconvert_exporter": "python",
   "pygments_lexer": "ipython3",
   "version": "3.7.6"
  }
 },
 "nbformat": 4,
 "nbformat_minor": 4
}
